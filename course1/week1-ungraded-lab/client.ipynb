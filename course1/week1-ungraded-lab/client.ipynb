{
  "cells": [
    {
      "cell_type": "markdown",
      "metadata": {
        "id": "4Ih6nEdcveFF"
      },
      "source": [
        "# Client to the YOLOv3_deployed_model"
      ],
      "id": "4Ih6nEdcveFF"
    },
    {
      "cell_type": "code",
      "execution_count": 1,
      "metadata": {
        "id": "IyjiURTXveFG"
      },
      "outputs": [],
      "source": [
        "import os\n",
        "import io\n",
        "import cv2\n",
        "import requests\n",
        "import numpy as np\n",
        "from IPython.display import Image, display"
      ],
      "id": "IyjiURTXveFG"
    },
    {
      "cell_type": "code",
      "execution_count": 2,
      "metadata": {
        "id": "suWS-TaYveFH"
      },
      "outputs": [],
      "source": [
        "base_url = 'http://localhost:8000'\n",
        "endpoint = '/predict'\n",
        "model = 'yolov3-tiny'"
      ],
      "id": "suWS-TaYveFH"
    },
    {
      "cell_type": "code",
      "execution_count": 3,
      "metadata": {
        "id": "gFk-ZAIZveFI",
        "outputId": "69d9fa33-e10c-478e-d77a-5fa99427078b",
        "colab": {
          "base_uri": "https://localhost:8080/"
        }
      },
      "outputs": [
        {
          "output_type": "execute_result",
          "data": {
            "text/plain": [
              "'http://localhost:8000/predict'"
            ]
          },
          "metadata": {},
          "execution_count": 3
        }
      ],
      "source": [
        "url_with_endpoint_no_params = base_url + endpoint\n",
        "url_with_endpoint_no_params"
      ],
      "id": "gFk-ZAIZveFI"
    },
    {
      "cell_type": "markdown",
      "metadata": {
        "id": "3V7B1pOIveFI"
      },
      "source": [
        "To set any of the expected parameters, the syntax is to add a \"?\" character followed by the name of the parameter and its value.\n"
      ],
      "id": "3V7B1pOIveFI"
    },
    {
      "cell_type": "code",
      "execution_count": 4,
      "metadata": {
        "id": "bkTv8ytKveFI",
        "outputId": "ec6dd9c8-4c20-4db3-fcaf-0bcf86132a41",
        "colab": {
          "base_uri": "https://localhost:8080/"
        }
      },
      "outputs": [
        {
          "output_type": "execute_result",
          "data": {
            "text/plain": [
              "'http://localhost:8000/predict?model=yolov3-tiny'"
            ]
          },
          "metadata": {},
          "execution_count": 4
        }
      ],
      "source": [
        "full_url = url_with_endpoint_no_params + \"?model=\" + model\n",
        "full_url"
      ],
      "id": "bkTv8ytKveFI"
    },
    {
      "cell_type": "markdown",
      "metadata": {
        "id": "pXtGENuMveFI"
      },
      "source": [
        "This endpoint expects both a model's name and an image. But since the image is more complex it is not passed within the URL. Instead we leverage the `requests` library to handle this process.\n",
        "\n",
        "# Sending a request to server\n"
      ],
      "id": "pXtGENuMveFI"
    },
    {
      "cell_type": "code",
      "execution_count": 5,
      "metadata": {
        "id": "G2uYNY7SveFI"
      },
      "outputs": [],
      "source": [
        "def response_from_server(url, image_file, verbose=True):\n",
        "    \"\"\"Makes a POST request to the server and returns the response.\n",
        "\n",
        "    Args:\n",
        "        url (str): URL that the request is sent to.\n",
        "        image_file (_io.BufferedReader): File to upload, should be an image.\n",
        "        verbose (bool): True if the status of the response should be printed. False otherwise.\n",
        "\n",
        "    Returns:\n",
        "        requests.models.Response: Response from the server.\n",
        "    \"\"\"\n",
        "\n",
        "    files = {'file': image_file}\n",
        "    response = requests.post(url, files=files)\n",
        "    status_code = response.status_code\n",
        "    if verbose:\n",
        "        msg = \"Everything went well!\" if status_code == 200 else \"There was an error when handling the request.\"\n",
        "        print(msg)\n",
        "    return response"
      ],
      "id": "G2uYNY7SveFI"
    },
    {
      "cell_type": "code",
      "execution_count": 7,
      "metadata": {
        "id": "GrIcH2vwveFJ",
        "outputId": "7a8a3824-9706-40a9-a1af-9a9759046902",
        "colab": {
          "base_uri": "https://localhost:8080/"
        }
      },
      "outputs": [
        {
          "output_type": "stream",
          "name": "stdout",
          "text": [
            "Everything went well!\n"
          ]
        }
      ],
      "source": [
        "with open(\"Files/images/clock2.jpg\", \"rb\") as image_file:\n",
        "    prediction = response_from_server(full_url, image_file)"
      ],
      "id": "GrIcH2vwveFJ"
    },
    {
      "cell_type": "markdown",
      "metadata": {
        "id": "yHGjfV0iveFJ"
      },
      "source": [
        "Great news! The request was successful. However, you are not getting any information about the objects in the image.\n",
        "\n",
        "To get the image with the bounding boxes and labels,  you need to parse the content of the response into an appropriate format. This process looks very similar to how you read raw images into a cv2 image on the server.\n",
        "\n",
        "To handle this step, let's create a directory called `images_predicted` to save the image to:"
      ],
      "id": "yHGjfV0iveFJ"
    },
    {
      "cell_type": "code",
      "execution_count": 9,
      "metadata": {
        "id": "mS7MtwghveFJ"
      },
      "outputs": [],
      "source": [
        "dir_name = \"images_predicted\"\n",
        "if not os.path.exists(dir_name):\n",
        "    os.mkdir(dir_name)"
      ],
      "id": "mS7MtwghveFJ"
    },
    {
      "cell_type": "markdown",
      "metadata": {
        "id": "PjZrnr16veFJ"
      },
      "source": [
        "\n",
        "### Creating the display_image_from_response function"
      ],
      "id": "PjZrnr16veFJ"
    },
    {
      "cell_type": "code",
      "execution_count": 8,
      "metadata": {
        "id": "6GImZOm0veFJ"
      },
      "outputs": [],
      "source": [
        "def display_image_from_response(response):\n",
        "    \"\"\"Display image within server's response.\n",
        "\n",
        "    Args:\n",
        "        response (requests.models.Response): The response from the server after object detection.\n",
        "    \"\"\"\n",
        "\n",
        "    image_stream = io.BytesIO(response.content)\n",
        "    image_stream.seek(0)\n",
        "    file_bytes = np.asarray(bytearray(image_stream.read()), dtype=np.uint8)\n",
        "    image = cv2.imdecode(file_bytes, cv2.IMREAD_COLOR)\n",
        "    filename = \"image_with_objects.jpeg\"\n",
        "    cv2.imwrite(f'images_predicted/{filename}', image)\n",
        "    display(Image(f'images_predicted/{filename}'))"
      ],
      "id": "6GImZOm0veFJ"
    },
    {
      "cell_type": "code",
      "execution_count": 9,
      "metadata": {
        "id": "uqorOUl6veFJ",
        "outputId": "333936fe-159e-4065-d028-83b5561ec200",
        "colab": {
          "base_uri": "https://localhost:8080/",
          "height": 297
        }
      },
      "outputs": [
        {
          "output_type": "display_data",
          "data": {
            "image/jpeg": "[encoded data removed]",
            "text/plain": [
              "<IPython.core.display.Image object>"
            ]
          },
          "metadata": {}
        }
      ],
      "source": [
        "display_image_from_response(prediction)"
      ],
      "id": "uqorOUl6veFJ"
    },
    {
      "cell_type": "markdown",
      "metadata": {
        "id": "0DmZZ2bDveFJ"
      },
      "source": [
        "Now you are ready to consume your object detection model through your own client!\n",
        "\n",
        "Let's test it out on some other images:"
      ],
      "id": "0DmZZ2bDveFJ"
    },
    {
      "cell_type": "code",
      "execution_count": null,
      "metadata": {
        "id": "lLhBsm3UveFK"
      },
      "outputs": [],
      "source": [
        "image_files = [\n",
        "    'car2.jpg',\n",
        "    'clock3.jpg',\n",
        "    'apples.jpg'\n",
        "]\n",
        "\n",
        "for image_file in image_files:\n",
        "    with open(f\"images/{image_file}\", \"rb\") as image_file:\n",
        "        prediction = response_from_server(full_url, image_file, verbose=False)\n",
        "\n",
        "    display_image_from_response(prediction)"
      ],
      "id": "lLhBsm3UveFK"
    },
    {
      "cell_type": "markdown",
      "metadata": {
        "id": "_FbGstjHveFK"
      },
      "source": [
        "#\n",
        "## Optional Challenge - Adding the confidence level to the request\n",
        "\n",
        "Let's expand on what you have learned so far. The next logical step is to extend the server and the client so that they can accommodate an additional parameter: the level of confidence of the prediction.\n",
        "\n",
        "**To test your extended implementation you must perform the following steps:**\n",
        "\n",
        "- Stop the server by interrupting the Kernel.\n",
        "- Extend the `prediction` function in the server.\n",
        "- Re run the cell containing your server code.\n",
        "- Re launch the server.\n",
        "- Extend your client.\n",
        "- Test it with some images (either with your client or fastAPI's one).\n",
        "\n",
        "Here are some hints that can help you out throughout the process:\n",
        "\n",
        "#### Server side:\n",
        "- The `prediction` function that handles the `/predict` endpoint needs an additional parameter to accept the confidence level. Add this new parameter before the `File` parameter. This is necessary because `File` has a default value and must be specified last.\n",
        "\n",
        "\n",
        "- `cv.detect_common_objects` accepts the `confidence` parameter, which is a floating point number (type `float`in Python).\n",
        "\n",
        "\n",
        "#### Client side:\n",
        "- You can add a new parameter to the URL by extending it with an `&` followed by the name of the parameter and its value. The name of this new parameter must be equal to the name used within the `prediction` function in the server. An example would look like this: `myawesomemodel.com/predict?model=yolov3-tiny&newParam=value`\n",
        "\n",
        "##### Sample Solution:\n",
        "- Once you're done with this optional task or if you got stuck while doing it, you can see a sample solution by one of your course mentors [here](https://community.deeplearning.ai/t/c1-w1-optional-challenge-confidence-level/67619). Just make sure you've already joined our Discourse community as shown in an earlier reading item. This is posted in the [MLEP Learner Projects](https://community.deeplearning.ai/c/machine-learning-engineering-for-production/mlep-learner-projects/224) category and feel free to post your own solution (and other content-related projects) there as well. Just remember **not to post any graded material** so as not to violate the Honor Code. You can instead take one of the tools/concepts taught in the lectures or labs then apply it to a mini-project. [Here](https://community.deeplearning.ai/t/fastapi-for-text-classification-problem-in-arabic/56857) is an example. We encourage you to explore your fellow learners' projects and comment on the ones you find interesting.\n",
        "\n",
        "\n",
        "**You can do it!**"
      ],
      "id": "_FbGstjHveFK"
    }
  ],
  "metadata": {
    "kernelspec": {
      "display_name": "Python 3",
      "language": "python",
      "name": "python3"
    },
    "language_info": {
      "codemirror_mode": {
        "name": "ipython",
        "version": 3
      },
      "file_extension": ".py",
      "mimetype": "text/x-python",
      "name": "python",
      "nbconvert_exporter": "python",
      "pygments_lexer": "ipython3",
      "version": "3.7.4"
    },
    "colab": {
      "provenance": []
    }
  },
  "nbformat": 4,
  "nbformat_minor": 5
}